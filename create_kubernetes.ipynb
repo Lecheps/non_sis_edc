{
 "cells": [
  {
   "cell_type": "code",
   "execution_count": 1,
   "metadata": {},
   "outputs": [],
   "source": [
    "from sys import path\n",
    "from time import sleep\n",
    "from fabric import Connection\n",
    "import yaml\n",
    "import re\n",
    "\n",
    "#adding prognos tools\n",
    "path.insert(0, \"/home/jose-luis/Envs/watexr/\")\n",
    "from watexr_tools.encrypt import decryptString\n",
    "from watexr_tools import gce_api as gce"
   ]
  },
  {
   "cell_type": "markdown",
   "metadata": {},
   "source": [
    "##  Getting files to instantiated shared volume\n",
    "\n",
    "This is a workaround that  needs to be done because google cloud does not allow for ReadWriteMany on persistent disks. The downside is that it makes disk io rather slow."
   ]
  },
  {
   "cell_type": "code",
   "execution_count": 2,
   "metadata": {},
   "outputs": [],
   "source": [
    "with Connection('localhost') as c:\n",
    "    c.local('wget https://raw.githubusercontent.com/kubernetes/examples/master/staging/volumes/nfs/provisioner/nfs-server-gce-pv.yaml -O nfs-server-gce-pv.yaml',hide='stderr')\n",
    "    c.local('wget https://raw.githubusercontent.com/kubernetes/examples/master/staging/volumes/nfs/nfs-server-rc.yaml -O nfs-server-rc.yaml',hide='stderr')\n",
    "    c.local('wget https://raw.githubusercontent.com/kubernetes/examples/master/staging/volumes/nfs/nfs-server-service.yaml -O nfs-server-service.yaml',hide='stderr')\n",
    "    c.local('wget https://raw.githubusercontent.com/kubernetes/examples/master/staging/volumes/nfs/nfs-pv.yaml -O nfs-pv.yaml',hide='stderr')\n",
    "    c.local('wget https://raw.githubusercontent.com/kubernetes/examples/master/staging/volumes/nfs/nfs-pvc.yaml -O nfs-pvc.yaml',hide='stderr')\n",
    "\n",
    "#Setting up the desired storage size\n",
    "with open('nfs-server-gce-pv.yaml', 'r') as f:\n",
    "    dummy =  yaml.safe_load(f)\n",
    "dummy['spec']['resources']['requests']['storage'] =  '400Gi'\n",
    "with open('nfs-server-gce-pv.yaml', 'w') as f:\n",
    "    f.write(yaml.dump(dummy))"
   ]
  },
  {
   "cell_type": "markdown",
   "metadata": {},
   "source": [
    "# Setting up a Kubernetes cluster\n",
    "\n",
    "The [Kubernetes engine API](https://cloud.google.com/kubernetes-engine/docs/reference/rest/) will be used to instantiate the cluster.\n",
    "\n",
    "The possible options for cluster instantiation can be fed to the REST api by passing a [cluster object](https://cloud.google.com/kubernetes-engine/docs/reference/rest/v1beta1/projects.zones.clusters)\n",
    "\n",
    "The for the moment we will limit ourselves to setting the machine type, the number of nodes and the location of the cluster.\n",
    "\n",
    "## Cluster settings"
   ]
  },
  {
   "cell_type": "code",
   "execution_count": 3,
   "metadata": {},
   "outputs": [],
   "source": [
    "#Set up machine type available in the cluster\n",
    "\n",
    "core_node = {\n",
    "  \"machineType\": \"n1-standard-4\",\n",
    "  \"diskSizeGb\": 50, \n",
    "  \"imageType\": \"COS\",\n",
    "  \"diskType\": \"pd-standard\",\n",
    "  \"labels\" : {\"hub.jupyter.org/node-purpose\" : \"core\" }\n",
    "}\n",
    "\n",
    "default_user_node = {\n",
    "  \"machineType\": \"n1-standard-4\",\n",
    "  \"diskSizeGb\": 50,\n",
    "  \"imageType\": \"COS\",\n",
    "  \"diskType\": \"pd-standard\",\n",
    "  \"labels\" : {\"hub.jupyter.org/node-purpose\" : \"user\" },\n",
    "  \"taints\" : [ {\"key\" : \"hub.jupyter.org_dedicated\" ,\n",
    "               \"value\" : \"user\", \n",
    "               \"effect\" : \"NO_SCHEDULE\"}\n",
    "             ]\n",
    "}\n",
    "\n",
    "high_cpu_user_node = {\n",
    "  \"machineType\": \"n1-standard-32\",\n",
    "  \"diskSizeGb\": 50,\n",
    "  \"imageType\": \"COS\",\n",
    "  \"diskType\": \"pd-standard\",\n",
    "  \"labels\" : {\"hub.jupyter.org/node-purpose\" : \"user\",\n",
    "              \"niva-dedicated\" : \"user-hi-cpu\"},\n",
    "  \"taints\" : [ \n",
    "              {\"key\" : \"hub.jupyter.org_dedicated\" ,\n",
    "               \"value\" : \"user\", \n",
    "               \"effect\" : \"NO_SCHEDULE\"},\n",
    "              {\"key\" : \"niva-dedicated\",\n",
    "               \"value\" : \"user-hi-cpu\",\n",
    "               \"effect\" : \"NO_SCHEDULE\"}\n",
    "              ]\n",
    "}\n",
    "\n",
    "# expensive_node = {\n",
    "#   \"machineType\": \"n1-standard-64\",\n",
    "#   \"diskSizeGb\": 100,\n",
    "#   \"imageType\": \"COS\",\n",
    "#   \"diskType\": \"pd-standard\",\n",
    "#   \"labels\" : {\"hub.jupyter.org/node-purpose\" : \"user\",\n",
    "#               \"niva-dedicated\" : \"user-hi-mem\"},\n",
    "#   \"taints\" : [ \n",
    "#               {\"key\" : \"hub.jupyter.org_dedicated\" ,\n",
    "#                \"value\" : \"user\", \n",
    "#                \"effect\" : \"NO_SCHEDULE\"},\n",
    "#               {\"key\" : \"niva-dedicated\",\n",
    "#                \"value\" : \"user-very-expensive\",\n",
    "#                \"effect\" : \"NO_SCHEDULE\"}\n",
    "#               ]\n",
    "# }\n",
    "\n",
    "#Setting up pool (which can have several nodes)\n",
    "node_pool = [\n",
    "    {\n",
    "      \"name\": \"default-pool\",\n",
    "      \"config\": core_node,\n",
    "      \"initialNodeCount\": 1  #Needs to be 2 apparently\n",
    "    },\n",
    "    {\n",
    "      \"name\": \"user-default-pool\",\n",
    "      \"config\": default_user_node,\n",
    "      \"initialNodeCount\": 0,\n",
    "      \"autoscaling\" : {\n",
    "          \"enabled\": True,\n",
    "          \"minNodeCount\": 0,\n",
    "          \"maxNodeCount\": 2,\n",
    "          \"autoprovisioned\": True,\n",
    "          }\n",
    "\n",
    "    },\n",
    "    {\n",
    "        \"name\": \"user-high-cpu-pool\",\n",
    "      \"config\": high_cpu_user_node,\n",
    "      \"initialNodeCount\": 0,\n",
    "          \"autoscaling\" : {\n",
    "          \"enabled\": True,\n",
    "          \"minNodeCount\": 0,\n",
    "          \"maxNodeCount\": 2,\n",
    "          \"autoprovisioned\": True,\n",
    "          }\n",
    "        \n",
    "    }\n",
    "]\n",
    "\n",
    "#Setting up the Kubernetes cluster\n",
    "cluster_object = {\n",
    "  \"name\": \"chemical-fate-jhub\",\n",
    "  \"description\": \"A cluster to run chemical models for the non-sis edc\",\n",
    "  \"nodePools\": node_pool, \n",
    "  \"location\": \"europe-north1-b\",\n",
    "  \"autoscaling\" : {\"enableNodeAutoprovisioning\": True,\n",
    "                   \"resourceLimits\" : [\n",
    "                       {\n",
    "                          \"resourceType\": 'cpu',\n",
    "                          \"minimum\": '0',\n",
    "                          \"maximum\": '64'\n",
    "                       },\n",
    "                       {\n",
    "                          \"resourceType\": 'memory',\n",
    "                          \"minimum\": '0',\n",
    "                          \"maximum\": '125'\n",
    "                       }                      \n",
    "                   ]\n",
    "                   },\n",
    "}"
   ]
  },
  {
   "cell_type": "markdown",
   "metadata": {},
   "source": [
    "## Instantiating Kubernetes cluster\n",
    "\n",
    "This is done using the [REST API](https://cloud.google.com/kubernetes-engine/docs/reference/rest). "
   ]
  },
  {
   "cell_type": "code",
   "execution_count": 4,
   "metadata": {},
   "outputs": [
    {
     "data": {
      "text/plain": [
       "{'name': 'operation-1598534070777-17fbdb45',\n",
       " 'zone': 'europe-north1-b',\n",
       " 'operationType': 'CREATE_CLUSTER',\n",
       " 'status': 'RUNNING',\n",
       " 'selfLink': 'https://container.googleapis.com/v1beta1/projects/808260220155/zones/europe-north1-b/operations/operation-1598534070777-17fbdb45',\n",
       " 'targetLink': 'https://container.googleapis.com/v1beta1/projects/808260220155/zones/europe-north1-b/clusters/chemical-fate-jhub',\n",
       " 'startTime': '2020-08-27T13:14:30.777377899Z'}"
      ]
     },
     "execution_count": 4,
     "metadata": {},
     "output_type": "execute_result"
    }
   ],
   "source": [
    "#Initializing the custom gke_api\n",
    "\n",
    "#Paths to keys. Getting keys has not been automated but can be done in the cloud console\n",
    "master_key = \"/home/jose-luis/Envs/gce_framework/code/keys/nivacatchment.json\"\n",
    "storage_key = \"/home/jose-luis/Envs/gce_framework/code/keys/framework-storage.json\"\n",
    "\n",
    "#General properties\n",
    "properties = {\n",
    "    \"project\" : \"nivacatchment\",\n",
    "    \"zone\" : \"europe-north1-b\",\n",
    "    \"cluster\" : cluster_object['name']\n",
    "}\n",
    "\n",
    "cloud = gce.gce_api(master_key,storage_key,properties)\n",
    "\n",
    "#Actually instantiating the cluster\n",
    "cloud.post(\"kubeCreate\",json={\"cluster\": cluster_object})"
   ]
  },
  {
   "cell_type": "code",
   "execution_count": 5,
   "metadata": {},
   "outputs": [
    {
     "data": {
      "text/plain": [
       "'PROVISIONING'"
      ]
     },
     "metadata": {},
     "output_type": "display_data"
    },
    {
     "data": {
      "text/plain": [
       "'PROVISIONING'"
      ]
     },
     "metadata": {},
     "output_type": "display_data"
    },
    {
     "data": {
      "text/plain": [
       "'PROVISIONING'"
      ]
     },
     "metadata": {},
     "output_type": "display_data"
    },
    {
     "data": {
      "text/plain": [
       "'PROVISIONING'"
      ]
     },
     "metadata": {},
     "output_type": "display_data"
    },
    {
     "data": {
      "text/plain": [
       "'PROVISIONING'"
      ]
     },
     "metadata": {},
     "output_type": "display_data"
    },
    {
     "data": {
      "text/plain": [
       "'PROVISIONING'"
      ]
     },
     "metadata": {},
     "output_type": "display_data"
    },
    {
     "data": {
      "text/plain": [
       "'PROVISIONING'"
      ]
     },
     "metadata": {},
     "output_type": "display_data"
    },
    {
     "data": {
      "text/plain": [
       "'PROVISIONING'"
      ]
     },
     "metadata": {},
     "output_type": "display_data"
    },
    {
     "data": {
      "text/plain": [
       "'PROVISIONING'"
      ]
     },
     "metadata": {},
     "output_type": "display_data"
    },
    {
     "data": {
      "text/plain": [
       "'PROVISIONING'"
      ]
     },
     "metadata": {},
     "output_type": "display_data"
    },
    {
     "data": {
      "text/plain": [
       "'PROVISIONING'"
      ]
     },
     "metadata": {},
     "output_type": "display_data"
    },
    {
     "data": {
      "text/plain": [
       "'PROVISIONING'"
      ]
     },
     "metadata": {},
     "output_type": "display_data"
    },
    {
     "data": {
      "text/plain": [
       "'PROVISIONING'"
      ]
     },
     "metadata": {},
     "output_type": "display_data"
    },
    {
     "data": {
      "text/plain": [
       "'PROVISIONING'"
      ]
     },
     "metadata": {},
     "output_type": "display_data"
    },
    {
     "data": {
      "text/plain": [
       "'PROVISIONING'"
      ]
     },
     "metadata": {},
     "output_type": "display_data"
    },
    {
     "data": {
      "text/plain": [
       "'PROVISIONING'"
      ]
     },
     "metadata": {},
     "output_type": "display_data"
    },
    {
     "data": {
      "text/plain": [
       "'PROVISIONING'"
      ]
     },
     "metadata": {},
     "output_type": "display_data"
    },
    {
     "data": {
      "text/plain": [
       "'PROVISIONING'"
      ]
     },
     "metadata": {},
     "output_type": "display_data"
    },
    {
     "data": {
      "text/plain": [
       "'RUNNING'"
      ]
     },
     "metadata": {},
     "output_type": "display_data"
    }
   ],
   "source": [
    "#Waiting until the cluster is up and running\n",
    "response = cloud.get('kubeCreate')['clusters'][0]['status']\n",
    "display(response)\n",
    "while response != 'RUNNING':\n",
    "    sleep(10)\n",
    "    response = cloud.get('kubeCreate')['clusters'][0]['status']\n",
    "    display(response) \n",
    "    \n",
    "    \n",
    "#Function that checks that a pool has been created\n",
    "def waitForPool():\n",
    "    #Wait until the cluster is ready\n",
    "    response = [i['status'] for i in cloud.get('kubeAddPool')['nodePools'] ]\n",
    "    display(response)\n",
    "    while (not(all([i == 'RUNNING' for i in response]))):\n",
    "        display(response)\n",
    "        sleep(10)\n",
    "        response = [i['status'] for i in cloud.get('kubeAddPool')['nodePools'] ]"
   ]
  },
  {
   "cell_type": "markdown",
   "metadata": {},
   "source": [
    "## Getting credentials for cluster"
   ]
  },
  {
   "cell_type": "code",
   "execution_count": 6,
   "metadata": {},
   "outputs": [
    {
     "name": "stderr",
     "output_type": "stream",
     "text": [
      "Fetching cluster endpoint and auth data.\n",
      "kubeconfig entry generated for chemical-fate-jhub.\n"
     ]
    }
   ],
   "source": [
    "with Connection('localhost') as c:\n",
    "    c.local('gcloud container clusters get-credentials {name} --zone {location}'.format(**cluster_object),replace_env=False)"
   ]
  },
  {
   "cell_type": "markdown",
   "metadata": {},
   "source": [
    "## Creating namespace"
   ]
  },
  {
   "cell_type": "code",
   "execution_count": null,
   "metadata": {},
   "outputs": [],
   "source": [
    "#Check if namespace jhub exist\n",
    "# with Connection('localhost') as c:\n",
    "#     bla = c.local('kubectl get namespace',replace_env=False)\n",
    "    \n",
    "# expr = re.compile('^jhub\\s+')\n",
    "# bla = bla.stdout.strip().split('\\n')\n",
    "# namespaceExists=any([expr.match(i) != None for i in bla])"
   ]
  },
  {
   "cell_type": "code",
   "execution_count": 9,
   "metadata": {},
   "outputs": [
    {
     "data": {
      "text/plain": [
       "{'proxy': {'secretToken': '9bab3ab5b179a253e2325cb088cbb0325b0d178102192482a5589ef0e0adc398'},\n",
       " 'singleuser': {'default': {'name': 'jupyter/datascience-notebook',\n",
       "   'tag': '41d6b29cd15c'},\n",
       "  'defaultUrl': '/lab'}}"
      ]
     },
     "metadata": {},
     "output_type": "display_data"
    },
    {
     "name": "stderr",
     "output_type": "stream",
     "text": [
      "Error from server (AlreadyExists): namespaces \"chemhub\" already exists\n"
     ]
    },
    {
     "ename": "UnexpectedExit",
     "evalue": "Encountered a bad command exit code!\n\nCommand: 'kubectl create namespace chemhub'\n\nExit code: 1\n\nStdout: already printed\n\nStderr: already printed\n\n",
     "output_type": "error",
     "traceback": [
      "\u001b[0;31m---------------------------------------------------------------------------\u001b[0m",
      "\u001b[0;31mUnexpectedExit\u001b[0m                            Traceback (most recent call last)",
      "\u001b[0;32m<ipython-input-9-ec8d536b4389>\u001b[0m in \u001b[0;36m<module>\u001b[0;34m\u001b[0m\n\u001b[1;32m     15\u001b[0m \u001b[0;34m\u001b[0m\u001b[0m\n\u001b[1;32m     16\u001b[0m \u001b[0;32mwith\u001b[0m \u001b[0mConnection\u001b[0m\u001b[0;34m(\u001b[0m\u001b[0;34m'localhost'\u001b[0m\u001b[0;34m)\u001b[0m \u001b[0;32mas\u001b[0m \u001b[0mc\u001b[0m\u001b[0;34m:\u001b[0m\u001b[0;34m\u001b[0m\u001b[0;34m\u001b[0m\u001b[0m\n\u001b[0;32m---> 17\u001b[0;31m     \u001b[0mc\u001b[0m\u001b[0;34m.\u001b[0m\u001b[0mlocal\u001b[0m\u001b[0;34m(\u001b[0m\u001b[0;34m'kubectl create namespace chemhub'\u001b[0m\u001b[0;34m,\u001b[0m\u001b[0mreplace_env\u001b[0m\u001b[0;34m=\u001b[0m\u001b[0;32mFalse\u001b[0m\u001b[0;34m)\u001b[0m\u001b[0;34m\u001b[0m\u001b[0;34m\u001b[0m\u001b[0m\n\u001b[0m\u001b[1;32m     18\u001b[0m     \u001b[0;31m#Using helm to install jupyterhub on the kubernetes cluster\u001b[0m\u001b[0;34m\u001b[0m\u001b[0;34m\u001b[0m\u001b[0;34m\u001b[0m\u001b[0m\n\u001b[1;32m     19\u001b[0m     \u001b[0mc\u001b[0m\u001b[0;34m.\u001b[0m\u001b[0mlocal\u001b[0m\u001b[0;34m(\u001b[0m\u001b[0;34m'helm repo add jupyterhub https://jupyterhub.github.io/helm-chart/'\u001b[0m\u001b[0;34m,\u001b[0m\u001b[0mreplace_env\u001b[0m\u001b[0;34m=\u001b[0m\u001b[0;32mFalse\u001b[0m\u001b[0;34m)\u001b[0m\u001b[0;34m\u001b[0m\u001b[0;34m\u001b[0m\u001b[0m\n",
      "\u001b[0;32m~/Envs/chemical_fate/lib/python3.8/site-packages/fabric/connection.py\u001b[0m in \u001b[0;36mlocal\u001b[0;34m(self, *args, **kwargs)\u001b[0m\n\u001b[1;32m    746\u001b[0m         \u001b[0;31m# Superclass run() uses runners.local, so we can literally just call it\u001b[0m\u001b[0;34m\u001b[0m\u001b[0;34m\u001b[0m\u001b[0;34m\u001b[0m\u001b[0m\n\u001b[1;32m    747\u001b[0m         \u001b[0;31m# straight.\u001b[0m\u001b[0;34m\u001b[0m\u001b[0;34m\u001b[0m\u001b[0;34m\u001b[0m\u001b[0m\n\u001b[0;32m--> 748\u001b[0;31m         \u001b[0;32mreturn\u001b[0m \u001b[0msuper\u001b[0m\u001b[0;34m(\u001b[0m\u001b[0mConnection\u001b[0m\u001b[0;34m,\u001b[0m \u001b[0mself\u001b[0m\u001b[0;34m)\u001b[0m\u001b[0;34m.\u001b[0m\u001b[0mrun\u001b[0m\u001b[0;34m(\u001b[0m\u001b[0;34m*\u001b[0m\u001b[0margs\u001b[0m\u001b[0;34m,\u001b[0m \u001b[0;34m**\u001b[0m\u001b[0mkwargs\u001b[0m\u001b[0;34m)\u001b[0m\u001b[0;34m\u001b[0m\u001b[0;34m\u001b[0m\u001b[0m\n\u001b[0m\u001b[1;32m    749\u001b[0m \u001b[0;34m\u001b[0m\u001b[0m\n\u001b[1;32m    750\u001b[0m     \u001b[0;34m@\u001b[0m\u001b[0mopens\u001b[0m\u001b[0;34m\u001b[0m\u001b[0;34m\u001b[0m\u001b[0m\n",
      "\u001b[0;32m~/Envs/chemical_fate/lib/python3.8/site-packages/invoke/context.py\u001b[0m in \u001b[0;36mrun\u001b[0;34m(self, command, **kwargs)\u001b[0m\n\u001b[1;32m     92\u001b[0m         \"\"\"\n\u001b[1;32m     93\u001b[0m         \u001b[0mrunner\u001b[0m \u001b[0;34m=\u001b[0m \u001b[0mself\u001b[0m\u001b[0;34m.\u001b[0m\u001b[0mconfig\u001b[0m\u001b[0;34m.\u001b[0m\u001b[0mrunners\u001b[0m\u001b[0;34m.\u001b[0m\u001b[0mlocal\u001b[0m\u001b[0;34m(\u001b[0m\u001b[0mself\u001b[0m\u001b[0;34m)\u001b[0m\u001b[0;34m\u001b[0m\u001b[0;34m\u001b[0m\u001b[0m\n\u001b[0;32m---> 94\u001b[0;31m         \u001b[0;32mreturn\u001b[0m \u001b[0mself\u001b[0m\u001b[0;34m.\u001b[0m\u001b[0m_run\u001b[0m\u001b[0;34m(\u001b[0m\u001b[0mrunner\u001b[0m\u001b[0;34m,\u001b[0m \u001b[0mcommand\u001b[0m\u001b[0;34m,\u001b[0m \u001b[0;34m**\u001b[0m\u001b[0mkwargs\u001b[0m\u001b[0;34m)\u001b[0m\u001b[0;34m\u001b[0m\u001b[0;34m\u001b[0m\u001b[0m\n\u001b[0m\u001b[1;32m     95\u001b[0m \u001b[0;34m\u001b[0m\u001b[0m\n\u001b[1;32m     96\u001b[0m     \u001b[0;31m# NOTE: broken out of run() to allow for runner class injection in\u001b[0m\u001b[0;34m\u001b[0m\u001b[0;34m\u001b[0m\u001b[0;34m\u001b[0m\u001b[0m\n",
      "\u001b[0;32m~/Envs/chemical_fate/lib/python3.8/site-packages/invoke/context.py\u001b[0m in \u001b[0;36m_run\u001b[0;34m(self, runner, command, **kwargs)\u001b[0m\n\u001b[1;32m     99\u001b[0m     \u001b[0;32mdef\u001b[0m \u001b[0m_run\u001b[0m\u001b[0;34m(\u001b[0m\u001b[0mself\u001b[0m\u001b[0;34m,\u001b[0m \u001b[0mrunner\u001b[0m\u001b[0;34m,\u001b[0m \u001b[0mcommand\u001b[0m\u001b[0;34m,\u001b[0m \u001b[0;34m**\u001b[0m\u001b[0mkwargs\u001b[0m\u001b[0;34m)\u001b[0m\u001b[0;34m:\u001b[0m\u001b[0;34m\u001b[0m\u001b[0;34m\u001b[0m\u001b[0m\n\u001b[1;32m    100\u001b[0m         \u001b[0mcommand\u001b[0m \u001b[0;34m=\u001b[0m \u001b[0mself\u001b[0m\u001b[0;34m.\u001b[0m\u001b[0m_prefix_commands\u001b[0m\u001b[0;34m(\u001b[0m\u001b[0mcommand\u001b[0m\u001b[0;34m)\u001b[0m\u001b[0;34m\u001b[0m\u001b[0;34m\u001b[0m\u001b[0m\n\u001b[0;32m--> 101\u001b[0;31m         \u001b[0;32mreturn\u001b[0m \u001b[0mrunner\u001b[0m\u001b[0;34m.\u001b[0m\u001b[0mrun\u001b[0m\u001b[0;34m(\u001b[0m\u001b[0mcommand\u001b[0m\u001b[0;34m,\u001b[0m \u001b[0;34m**\u001b[0m\u001b[0mkwargs\u001b[0m\u001b[0;34m)\u001b[0m\u001b[0;34m\u001b[0m\u001b[0;34m\u001b[0m\u001b[0m\n\u001b[0m\u001b[1;32m    102\u001b[0m \u001b[0;34m\u001b[0m\u001b[0m\n\u001b[1;32m    103\u001b[0m     \u001b[0;32mdef\u001b[0m \u001b[0msudo\u001b[0m\u001b[0;34m(\u001b[0m\u001b[0mself\u001b[0m\u001b[0;34m,\u001b[0m \u001b[0mcommand\u001b[0m\u001b[0;34m,\u001b[0m \u001b[0;34m**\u001b[0m\u001b[0mkwargs\u001b[0m\u001b[0;34m)\u001b[0m\u001b[0;34m:\u001b[0m\u001b[0;34m\u001b[0m\u001b[0;34m\u001b[0m\u001b[0m\n",
      "\u001b[0;32m~/Envs/chemical_fate/lib/python3.8/site-packages/invoke/runners.py\u001b[0m in \u001b[0;36mrun\u001b[0;34m(self, command, **kwargs)\u001b[0m\n\u001b[1;32m    361\u001b[0m         \"\"\"\n\u001b[1;32m    362\u001b[0m         \u001b[0;32mtry\u001b[0m\u001b[0;34m:\u001b[0m\u001b[0;34m\u001b[0m\u001b[0;34m\u001b[0m\u001b[0m\n\u001b[0;32m--> 363\u001b[0;31m             \u001b[0;32mreturn\u001b[0m \u001b[0mself\u001b[0m\u001b[0;34m.\u001b[0m\u001b[0m_run_body\u001b[0m\u001b[0;34m(\u001b[0m\u001b[0mcommand\u001b[0m\u001b[0;34m,\u001b[0m \u001b[0;34m**\u001b[0m\u001b[0mkwargs\u001b[0m\u001b[0;34m)\u001b[0m\u001b[0;34m\u001b[0m\u001b[0;34m\u001b[0m\u001b[0m\n\u001b[0m\u001b[1;32m    364\u001b[0m         \u001b[0;32mfinally\u001b[0m\u001b[0;34m:\u001b[0m\u001b[0;34m\u001b[0m\u001b[0;34m\u001b[0m\u001b[0m\n\u001b[1;32m    365\u001b[0m             \u001b[0;32mif\u001b[0m \u001b[0;32mnot\u001b[0m \u001b[0;34m(\u001b[0m\u001b[0mself\u001b[0m\u001b[0;34m.\u001b[0m\u001b[0m_asynchronous\u001b[0m \u001b[0;32mor\u001b[0m \u001b[0mself\u001b[0m\u001b[0;34m.\u001b[0m\u001b[0m_disowned\u001b[0m\u001b[0;34m)\u001b[0m\u001b[0;34m:\u001b[0m\u001b[0;34m\u001b[0m\u001b[0;34m\u001b[0m\u001b[0m\n",
      "\u001b[0;32m~/Envs/chemical_fate/lib/python3.8/site-packages/invoke/runners.py\u001b[0m in \u001b[0;36m_run_body\u001b[0;34m(self, command, **kwargs)\u001b[0m\n\u001b[1;32m    420\u001b[0m             \u001b[0mthread\u001b[0m\u001b[0;34m.\u001b[0m\u001b[0mstart\u001b[0m\u001b[0;34m(\u001b[0m\u001b[0;34m)\u001b[0m\u001b[0;34m\u001b[0m\u001b[0;34m\u001b[0m\u001b[0m\n\u001b[1;32m    421\u001b[0m         \u001b[0;31m# Wrap up or promise that we will, depending\u001b[0m\u001b[0;34m\u001b[0m\u001b[0;34m\u001b[0m\u001b[0;34m\u001b[0m\u001b[0m\n\u001b[0;32m--> 422\u001b[0;31m         \u001b[0;32mreturn\u001b[0m \u001b[0mself\u001b[0m\u001b[0;34m.\u001b[0m\u001b[0mmake_promise\u001b[0m\u001b[0;34m(\u001b[0m\u001b[0;34m)\u001b[0m \u001b[0;32mif\u001b[0m \u001b[0mself\u001b[0m\u001b[0;34m.\u001b[0m\u001b[0m_asynchronous\u001b[0m \u001b[0;32melse\u001b[0m \u001b[0mself\u001b[0m\u001b[0;34m.\u001b[0m\u001b[0m_finish\u001b[0m\u001b[0;34m(\u001b[0m\u001b[0;34m)\u001b[0m\u001b[0;34m\u001b[0m\u001b[0;34m\u001b[0m\u001b[0m\n\u001b[0m\u001b[1;32m    423\u001b[0m \u001b[0;34m\u001b[0m\u001b[0m\n\u001b[1;32m    424\u001b[0m     \u001b[0;32mdef\u001b[0m \u001b[0mmake_promise\u001b[0m\u001b[0;34m(\u001b[0m\u001b[0mself\u001b[0m\u001b[0;34m)\u001b[0m\u001b[0;34m:\u001b[0m\u001b[0;34m\u001b[0m\u001b[0;34m\u001b[0m\u001b[0m\n",
      "\u001b[0;32m~/Envs/chemical_fate/lib/python3.8/site-packages/invoke/runners.py\u001b[0m in \u001b[0;36m_finish\u001b[0;34m(self)\u001b[0m\n\u001b[1;32m    487\u001b[0m             \u001b[0;32mraise\u001b[0m \u001b[0mCommandTimedOut\u001b[0m\u001b[0;34m(\u001b[0m\u001b[0mresult\u001b[0m\u001b[0;34m,\u001b[0m \u001b[0mtimeout\u001b[0m\u001b[0;34m=\u001b[0m\u001b[0mtimeout\u001b[0m\u001b[0;34m)\u001b[0m\u001b[0;34m\u001b[0m\u001b[0;34m\u001b[0m\u001b[0m\n\u001b[1;32m    488\u001b[0m         \u001b[0;32mif\u001b[0m \u001b[0;32mnot\u001b[0m \u001b[0;34m(\u001b[0m\u001b[0mresult\u001b[0m \u001b[0;32mor\u001b[0m \u001b[0mself\u001b[0m\u001b[0;34m.\u001b[0m\u001b[0mopts\u001b[0m\u001b[0;34m[\u001b[0m\u001b[0;34m\"warn\"\u001b[0m\u001b[0;34m]\u001b[0m\u001b[0;34m)\u001b[0m\u001b[0;34m:\u001b[0m\u001b[0;34m\u001b[0m\u001b[0;34m\u001b[0m\u001b[0m\n\u001b[0;32m--> 489\u001b[0;31m             \u001b[0;32mraise\u001b[0m \u001b[0mUnexpectedExit\u001b[0m\u001b[0;34m(\u001b[0m\u001b[0mresult\u001b[0m\u001b[0;34m)\u001b[0m\u001b[0;34m\u001b[0m\u001b[0;34m\u001b[0m\u001b[0m\n\u001b[0m\u001b[1;32m    490\u001b[0m         \u001b[0;32mreturn\u001b[0m \u001b[0mresult\u001b[0m\u001b[0;34m\u001b[0m\u001b[0;34m\u001b[0m\u001b[0m\n\u001b[1;32m    491\u001b[0m \u001b[0;34m\u001b[0m\u001b[0m\n",
      "\u001b[0;31mUnexpectedExit\u001b[0m: Encountered a bad command exit code!\n\nCommand: 'kubectl create namespace chemhub'\n\nExit code: 1\n\nStdout: already printed\n\nStderr: already printed\n\n"
     ]
    }
   ],
   "source": [
    "with Connection('localhost') as c:\n",
    "    randHex = c.local('openssl rand -hex  32',hide='out')\n",
    "    randHex = randHex.stdout.strip()\n",
    "\n",
    "config = {'proxy': {'secretToken': randHex} }\n",
    "\n",
    "config.update({'singleuser' : {'default': {'name':'jupyter/datascience-notebook','tag': '41d6b29cd15c'}} })\n",
    "config['singleuser'].update({'defaultUrl' : \"/lab\"})\n",
    "\n",
    "display(config)\n",
    "    \n",
    "with open('config.yaml','w') as f:\n",
    "    f.write(yaml.dump(config,default_flow_style=False))\n",
    "\n",
    "\n",
    "with Connection('localhost') as c:\n",
    "    c.local('kubectl create namespace chemhub',replace_env=False)\n",
    "    #Using helm to install jupyterhub on the kubernetes cluster\n",
    "    c.local('helm repo add jupyterhub https://jupyterhub.github.io/helm-chart/',replace_env=False)\n",
    "    c.local('helm repo update', replace_env=False)  \n",
    "    #First install\n",
    "    c.local('helm upgrade --install chemhub jupyterhub/jupyterhub --namespace chemhub --version=0.9.0 --values config.yaml ',replace_env=False)"
   ]
  },
  {
   "cell_type": "code",
   "execution_count": 10,
   "metadata": {},
   "outputs": [
    {
     "data": {
      "text/plain": [
       "{'proxy': {'secretToken': '9bab3ab5b179a253e2325cb088cbb0325b0d178102192482a5589ef0e0adc398'},\n",
       " 'singleuser': {'default': {'name': 'jupyter/datascience-notebook',\n",
       "   'tag': '41d6b29cd15c'},\n",
       "  'defaultUrl': '/lab',\n",
       "  'profileList': [{'display_name': 'Standard',\n",
       "    'description': 'At least: two processors, 7.5GB of RAM ',\n",
       "    'default': True,\n",
       "    'kubespawner_override': {'cpu_limit': 4,\n",
       "     'cpu_guarantee': 1,\n",
       "     'mem_limit': '15G',\n",
       "     'mem_guarantee': '1G',\n",
       "     'start_timeout': 900}},\n",
       "   {'display_name': 'Your own personal machine',\n",
       "    'description': '4 processors, 15GB of RAM',\n",
       "    'kubespawner_override': {'cpu_limit': 4,\n",
       "     'cpu_guarantee': 4,\n",
       "     'mem_limit': '15G',\n",
       "     'mem_guarantee': '15G',\n",
       "     'start_timeout': 900,\n",
       "     'tolerations': [{'effect': 'NoSchedule',\n",
       "       'key': 'hub.jupyter.org_dedicated',\n",
       "       'operator': 'Equal',\n",
       "       'value': 'user'}]}},\n",
       "   {'display_name': 'High CPU (new node; typically 5-10 mins startup time)',\n",
       "    'description': 'Access to 16 CPUs, 12 GB RAM, no GPU. For CPU-heavy processing. Expensive!',\n",
       "    'kubespawner_override': {'cpu_limit': 8,\n",
       "     'cpu_guarantee': 32,\n",
       "     'mem_limit': '60G',\n",
       "     'mem_guarantee': '7.5G',\n",
       "     'start_timeout': 900,\n",
       "     'tolerations': [{'effect': 'NoSchedule',\n",
       "       'key': 'hub.jupyter.org_dedicated',\n",
       "       'operator': 'Equal',\n",
       "       'value': 'user'},\n",
       "      {'effect': 'NoSchedule',\n",
       "       'key': 'niva-dedicated',\n",
       "       'operator': 'Equal',\n",
       "       'value': 'user-hi-cpu'}]}}]}}"
      ]
     },
     "metadata": {},
     "output_type": "display_data"
    },
    {
     "name": "stdout",
     "output_type": "stream",
     "text": [
      "Release \"chemhub\" has been upgraded. Happy Helming!\n",
      "NAME: chemhub\n",
      "LAST DEPLOYED: Thu Aug 27 15:23:00 2020\n",
      "NAMESPACE: chemhub\n",
      "STATUS: deployed\n",
      "REVISION: 2\n",
      "TEST SUITE: None\n",
      "NOTES:\n",
      "Thank you for installing JupyterHub!\n",
      "\n",
      "Your release is named chemhub and installed into the namespace chemhub.\n",
      "\n",
      "You can find if the hub and proxy is ready by doing:\n",
      "\n",
      " kubectl --namespace=chemhub get pod\n",
      "\n",
      "and watching for both those pods to be in status 'Running'.\n",
      "\n",
      "You can find the public IP of the JupyterHub by doing:\n",
      "\n",
      " kubectl --namespace=chemhub get svc proxy-public\n",
      "\n",
      "It might take a few minutes for it to appear!\n",
      "\n",
      "Note that this is still an alpha release! If you have questions, feel free to\n",
      "  1. Read the guide at https://z2jh.jupyter.org\n",
      "  2. Chat with us at https://gitter.im/jupyterhub/jupyterhub\n",
      "  3. File issues at https://github.com/jupyterhub/zero-to-jupyterhub-k8s/issues\n"
     ]
    }
   ],
   "source": [
    "## Setting up machine types to be instantiated\n",
    "\n",
    "profileList = [{'display_name': 'Standard',\n",
    "                        'description': 'At least: two processors, 7.5GB of RAM ',\n",
    "                        'default': True,\n",
    "                        'kubespawner_override': {'cpu_limit': 4,\n",
    "                         'cpu_guarantee': 1,\n",
    "                         'mem_limit': '15G',\n",
    "                         'mem_guarantee': '1G',\n",
    "                         'start_timeout': 900\n",
    "                                                }\n",
    "               },\n",
    "               {'display_name': 'Your own personal machine',\n",
    "                'description': '4 processors, 15GB of RAM',\n",
    "                'kubespawner_override': {'cpu_limit': 4,\n",
    "                                         'cpu_guarantee': 4,\n",
    "                                         'mem_limit': '15G',\n",
    "                                         'mem_guarantee': '15G',\n",
    "                                         'start_timeout': 900,\n",
    "                                         'tolerations' : [{'effect': 'NoSchedule',\n",
    "                                                            'key': 'hub.jupyter.org_dedicated',\n",
    "                                                            'operator': 'Equal',\n",
    "                                                            'value': 'user'},\n",
    "                                                         ]\n",
    "                                         }\n",
    "               },\n",
    "               {'display_name': 'High CPU (new node; typically 5-10 mins startup time)',\n",
    "                 'description': 'Access to 16 CPUs, 12 GB RAM, no GPU. For CPU-heavy processing. Expensive!',\n",
    "                 'kubespawner_override': {'cpu_limit': 8,\n",
    "                  'cpu_guarantee': 32,\n",
    "                  'mem_limit': '60G',\n",
    "                  'mem_guarantee': '7.5G',\n",
    "                  'start_timeout': 900,\n",
    "                  'tolerations': [{'effect': 'NoSchedule',\n",
    "                    'key': 'hub.jupyter.org_dedicated',\n",
    "                    'operator': 'Equal',\n",
    "                    'value': 'user'},\n",
    "                   {'effect': 'NoSchedule',\n",
    "                    'key': 'niva-dedicated',\n",
    "                    'operator': 'Equal',\n",
    "                    'value': 'user-hi-cpu'}]}\n",
    "               }\n",
    "               ]\n",
    "\n",
    "\n",
    "config['singleuser'].update({'profileList' : profileList})\n",
    "\n",
    "display(config)\n",
    "    \n",
    "with open('config.yaml','w') as f:\n",
    "    f.write(yaml.dump(config))\n",
    "    \n",
    "with Connection('localhost') as c:\n",
    "    #Update\n",
    "    c.local('helm upgrade chemhub jupyterhub/jupyterhub --namespace=chemhub --version=0.9.0 --values config.yaml ',replace_env=False)"
   ]
  },
  {
   "cell_type": "markdown",
   "metadata": {},
   "source": [
    "## Getting ip"
   ]
  },
  {
   "cell_type": "code",
   "execution_count": 11,
   "metadata": {},
   "outputs": [
    {
     "name": "stdout",
     "output_type": "stream",
     "text": [
      "NAME           TYPE           CLUSTER-IP      EXTERNAL-IP      PORT(S)                      AGE\n",
      "proxy-public   LoadBalancer   10.27.245.249   35.228.115.160   443:32170/TCP,80:30548/TCP   2m39s\n"
     ]
    },
    {
     "data": {
      "text/plain": [
       "{'NAME': 'proxy-public',\n",
       " 'TYPE': 'LoadBalancer',\n",
       " 'CLUSTER-IP': '10.27.245.249',\n",
       " 'EXTERNAL-IP': '35.228.115.160',\n",
       " 'PORT(S)': '443:32170/TCP,80:30548/TCP',\n",
       " 'AGE': '2m39s'}"
      ]
     },
     "metadata": {},
     "output_type": "display_data"
    }
   ],
   "source": [
    "with Connection('localhost') as c:\n",
    "    ip = c.local('kubectl --namespace=chemhub get svc proxy-public',replace_env=False)\n",
    "\n",
    "ip = ip.stdout.split('\\n')\n",
    "ip_dict = dict()\n",
    "for i,j in zip(ip[0].split(),ip[1].split()):\n",
    "    ip_dict.update({i:j})\n",
    "    \n",
    "display(ip_dict)"
   ]
  },
  {
   "cell_type": "markdown",
   "metadata": {},
   "source": [
    "## Limiting access"
   ]
  },
  {
   "cell_type": "code",
   "execution_count": 12,
   "metadata": {},
   "outputs": [
    {
     "name": "stdout",
     "output_type": "stream",
     "text": [
      "Release \"chemhub\" has been upgraded. Happy Helming!\n",
      "NAME: chemhub\n",
      "LAST DEPLOYED: Thu Aug 27 15:24:13 2020\n",
      "NAMESPACE: chemhub\n",
      "STATUS: deployed\n",
      "REVISION: 3\n",
      "TEST SUITE: None\n",
      "NOTES:\n",
      "Thank you for installing JupyterHub!\n",
      "\n",
      "Your release is named chemhub and installed into the namespace chemhub.\n",
      "\n",
      "You can find if the hub and proxy is ready by doing:\n",
      "\n",
      " kubectl --namespace=chemhub get pod\n",
      "\n",
      "and watching for both those pods to be in status 'Running'.\n",
      "\n",
      "You can find the public IP of the JupyterHub by doing:\n",
      "\n",
      " kubectl --namespace=chemhub get svc proxy-public\n",
      "\n",
      "It might take a few minutes for it to appear!\n",
      "\n",
      "Note that this is still an alpha release! If you have questions, feel free to\n",
      "  1. Read the guide at https://z2jh.jupyter.org\n",
      "  2. Chat with us at https://gitter.im/jupyterhub/jupyterhub\n",
      "  3. File issues at https://github.com/jupyterhub/zero-to-jupyterhub-k8s/issues\n"
     ]
    }
   ],
   "source": [
    "hub = {'extraConfig': {'jupyterlab': \"c.Spawner.cmd = ['jupyter-labhub']\"} ,\n",
    "      'scheduling': {'userScheduler': {'enabled': True},\n",
    "                          'podPriority': {'enabled': True},\n",
    "                          'userPlaceholder': {'enabled': True, 'replicas': 2},\n",
    "                          'userPods': {'nodeAffinity': {'matchNodePurpose': 'require'}},\n",
    "                          'corePods': {'nodeAffinity': {'matchNodePurpose': 'require'}}\n",
    "                        }\n",
    "      }\n",
    "auth = {\n",
    "      'type' : 'github', \n",
    "       'admin': {\n",
    "           'access' : True, 'users' : ['Lecheps',]},\n",
    "       'whitelist' : {'users' :  ['LeahJB','clayerf']},\n",
    "       'github' : {\n",
    "           'clientId' : '42a65eb61a1f218f7a99',\n",
    "           'clientSecret' : '965f613f25d74f9f1cd592ff5d8c601e59666c73',\n",
    "           'callbackUrl': \"http://{}/hub/oauth_callback\".format(ip_dict['EXTERNAL-IP'])\n",
    "                  }\n",
    "         }\n",
    "\n",
    "config.update({'hub': hub})\n",
    "config.update({'auth': auth})\n",
    "\n",
    "with open('config.yaml','w') as f:\n",
    "    f.write(yaml.dump(config))\n",
    "    \n",
    "with Connection('localhost') as c:\n",
    "    #Update\n",
    "    c.local('helm upgrade chemhub jupyterhub/jupyterhub --namespace=chemhub --version=0.9.0 --values config.yaml ',replace_env=False)       "
   ]
  },
  {
   "cell_type": "code",
   "execution_count": null,
   "metadata": {},
   "outputs": [],
   "source": [
    "with open('config.yaml','w') as f:\n",
    "    f.write(yaml.dump(c,default_flow_style=False))\n"
   ]
  },
  {
   "cell_type": "code",
   "execution_count": 13,
   "metadata": {},
   "outputs": [
    {
     "name": "stdout",
     "output_type": "stream",
     "text": [
      "Release \"chemhub\" has been upgraded. Happy Helming!\n",
      "NAME: chemhub\n",
      "LAST DEPLOYED: Thu Aug 27 15:48:11 2020\n",
      "NAMESPACE: chemhub\n",
      "STATUS: deployed\n",
      "REVISION: 4\n",
      "TEST SUITE: None\n",
      "NOTES:\n",
      "Thank you for installing JupyterHub!\n",
      "\n",
      "Your release is named chemhub and installed into the namespace chemhub.\n",
      "\n",
      "You can find if the hub and proxy is ready by doing:\n",
      "\n",
      " kubectl --namespace=chemhub get pod\n",
      "\n",
      "and watching for both those pods to be in status 'Running'.\n",
      "\n",
      "You can find the public IP of the JupyterHub by doing:\n",
      "\n",
      " kubectl --namespace=chemhub get svc proxy-public\n",
      "\n",
      "It might take a few minutes for it to appear!\n",
      "\n",
      "Note that this is still an alpha release! If you have questions, feel free to\n",
      "  1. Read the guide at https://z2jh.jupyter.org\n",
      "  2. Chat with us at https://gitter.im/jupyterhub/jupyterhub\n",
      "  3. File issues at https://github.com/jupyterhub/zero-to-jupyterhub-k8s/issues\n"
     ]
    }
   ],
   "source": [
    "config.update({'singleuser' : {'default': {'name':'jupyter/all-spark-notebook','tag': '67bed9ea4a47'}} })\n",
    "with Connection('localhost') as c:\n",
    "    #Update\n",
    "    c.local('helm upgrade chemhub jupyterhub/jupyterhub --namespace=chemhub --version=0.9.0 --values config.yaml ',replace_env=False)       "
   ]
  },
  {
   "cell_type": "code",
   "execution_count": null,
   "metadata": {},
   "outputs": [],
   "source": [
    "kubectl --namespace=chemhub get pod"
   ]
  }
 ],
 "metadata": {
  "kernelspec": {
   "display_name": "Python 3",
   "language": "python",
   "name": "python3"
  },
  "language_info": {
   "codemirror_mode": {
    "name": "ipython",
    "version": 3
   },
   "file_extension": ".py",
   "mimetype": "text/x-python",
   "name": "python",
   "nbconvert_exporter": "python",
   "pygments_lexer": "ipython3",
   "version": "3.8.2"
  }
 },
 "nbformat": 4,
 "nbformat_minor": 4
}
