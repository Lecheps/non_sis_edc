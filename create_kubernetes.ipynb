{
 "cells": [
  {
   "cell_type": "code",
   "execution_count": 1,
   "metadata": {},
   "outputs": [],
   "source": [
    "from sys import path\n",
    "from time import sleep\n",
    "from fabric import Connection\n",
    "import yaml\n",
    "import re\n",
    "\n",
    "#adding prognos tools\n",
    "path.insert(0, \"/home/jose-luis/Envs/watexr/\")\n",
    "from watexr_tools.encrypt import decryptString\n",
    "from watexr_tools import gce_api as gce"
   ]
  },
  {
   "cell_type": "markdown",
   "metadata": {},
   "source": [
    "##  Getting files to instantiated shared volume\n",
    "\n",
    "This is a workaround that  needs to be done because google cloud does not allow for ReadWriteMany on persistent disks. The downside is that it makes disk io rather slow."
   ]
  },
  {
   "cell_type": "code",
   "execution_count": 2,
   "metadata": {},
   "outputs": [],
   "source": [
    "with Connection('localhost') as c:\n",
    "    c.local('wget https://raw.githubusercontent.com/kubernetes/examples/master/staging/volumes/nfs/provisioner/nfs-server-gce-pv.yaml -O nfs-server-gce-pv.yaml',hide='stderr')\n",
    "    c.local('wget https://raw.githubusercontent.com/kubernetes/examples/master/staging/volumes/nfs/nfs-server-rc.yaml -O nfs-server-rc.yaml',hide='stderr')\n",
    "    c.local('wget https://raw.githubusercontent.com/kubernetes/examples/master/staging/volumes/nfs/nfs-server-service.yaml -O nfs-server-service.yaml',hide='stderr')\n",
    "    c.local('wget https://raw.githubusercontent.com/kubernetes/examples/master/staging/volumes/nfs/nfs-pv.yaml -O nfs-pv.yaml',hide='stderr')\n",
    "    c.local('wget https://raw.githubusercontent.com/kubernetes/examples/master/staging/volumes/nfs/nfs-pvc.yaml -O nfs-pvc.yaml',hide='stderr')\n",
    "\n",
    "#Setting up the desired storage size\n",
    "with open('nfs-server-gce-pv.yaml', 'r') as f:\n",
    "    dummy =  yaml.safe_load(f)\n",
    "dummy['spec']['resources']['requests']['storage'] =  '400Gi'\n",
    "with open('nfs-server-gce-pv.yaml', 'w') as f:\n",
    "    f.write(yaml.dump(dummy))"
   ]
  },
  {
   "cell_type": "markdown",
   "metadata": {},
   "source": [
    "# Setting up a Kubernetes cluster\n",
    "\n",
    "The [Kubernetes engine API](https://cloud.google.com/kubernetes-engine/docs/reference/rest/) will be used to instantiate the cluster.\n",
    "\n",
    "The possible options for cluster instantiation can be fed to the REST api by passing a [cluster object](https://cloud.google.com/kubernetes-engine/docs/reference/rest/v1beta1/projects.zones.clusters)\n",
    "\n",
    "The for the moment we will limit ourselves to setting the machine type, the number of nodes and the location of the cluster.\n",
    "\n",
    "## Cluster settings"
   ]
  },
  {
   "cell_type": "code",
   "execution_count": 3,
   "metadata": {},
   "outputs": [],
   "source": [
    "#Set up machine type available in the cluster\n",
    "\n",
    "core_node = {\n",
    "  \"machineType\": \"n1-standard-4\",\n",
    "  \"diskSizeGb\": 50, \n",
    "  \"imageType\": \"COS\",\n",
    "  \"diskType\": \"pd-standard\",\n",
    "  \"labels\" : {\"hub.jupyter.org/node-purpose\" : \"core\" }\n",
    "}\n",
    "\n",
    "default_user_node = {\n",
    "  \"machineType\": \"n1-standard-4\",\n",
    "  \"diskSizeGb\": 50,\n",
    "  \"imageType\": \"COS\",\n",
    "  \"diskType\": \"pd-standard\",\n",
    "  \"labels\" : {\"hub.jupyter.org/node-purpose\" : \"user\" },\n",
    "  \"taints\" : [ {\"key\" : \"hub.jupyter.org_dedicated\" ,\n",
    "               \"value\" : \"user\", \n",
    "               \"effect\" : \"NO_SCHEDULE\"}\n",
    "             ]\n",
    "}\n",
    "\n",
    "high_cpu_user_node = {\n",
    "  \"machineType\": \"n1-standard-32\",\n",
    "  \"diskSizeGb\": 50,\n",
    "  \"imageType\": \"COS\",\n",
    "  \"diskType\": \"pd-standard\",\n",
    "  \"labels\" : {\"hub.jupyter.org/node-purpose\" : \"user\",\n",
    "              \"niva-dedicated\" : \"user-hi-cpu\"},\n",
    "  \"taints\" : [ \n",
    "              {\"key\" : \"hub.jupyter.org_dedicated\" ,\n",
    "               \"value\" : \"user\", \n",
    "               \"effect\" : \"NO_SCHEDULE\"},\n",
    "              {\"key\" : \"niva-dedicated\",\n",
    "               \"value\" : \"user-hi-cpu\",\n",
    "               \"effect\" : \"NO_SCHEDULE\"}\n",
    "              ]\n",
    "}\n",
    "\n",
    "# expensive_node = {\n",
    "#   \"machineType\": \"n1-standard-64\",\n",
    "#   \"diskSizeGb\": 100,\n",
    "#   \"imageType\": \"COS\",\n",
    "#   \"diskType\": \"pd-standard\",\n",
    "#   \"labels\" : {\"hub.jupyter.org/node-purpose\" : \"user\",\n",
    "#               \"niva-dedicated\" : \"user-hi-mem\"},\n",
    "#   \"taints\" : [ \n",
    "#               {\"key\" : \"hub.jupyter.org_dedicated\" ,\n",
    "#                \"value\" : \"user\", \n",
    "#                \"effect\" : \"NO_SCHEDULE\"},\n",
    "#               {\"key\" : \"niva-dedicated\",\n",
    "#                \"value\" : \"user-very-expensive\",\n",
    "#                \"effect\" : \"NO_SCHEDULE\"}\n",
    "#               ]\n",
    "# }\n",
    "\n",
    "#Setting up pool (which can have several nodes)\n",
    "node_pool = [\n",
    "    {\n",
    "      \"name\": \"default-pool\",\n",
    "      \"config\": core_node,\n",
    "      \"initialNodeCount\": 1  #Needs to be 2 apparently\n",
    "    },\n",
    "    {\n",
    "      \"name\": \"user-default-pool\",\n",
    "      \"config\": default_user_node,\n",
    "      \"initialNodeCount\": 0,\n",
    "      \"autoscaling\" : {\n",
    "          \"enabled\": True,\n",
    "          \"minNodeCount\": 0,\n",
    "          \"maxNodeCount\": 2,\n",
    "          \"autoprovisioned\": True,\n",
    "          }\n",
    "\n",
    "    },\n",
    "    {\n",
    "        \"name\": \"user-high-cpu-pool\",\n",
    "      \"config\": high_cpu_user_node,\n",
    "      \"initialNodeCount\": 0,\n",
    "          \"autoscaling\" : {\n",
    "          \"enabled\": True,\n",
    "          \"minNodeCount\": 0,\n",
    "          \"maxNodeCount\": 2,\n",
    "          \"autoprovisioned\": True,\n",
    "          }\n",
    "        \n",
    "    }\n",
    "]\n",
    "\n",
    "#Setting up the Kubernetes cluster\n",
    "cluster_object = {\n",
    "  \"name\": \"chemical-fate-jhub\",\n",
    "  \"description\": \"A cluster to run chemical models for the non-sis edc\",\n",
    "  \"nodePools\": node_pool, \n",
    "  \"location\": \"europe-north1-b\",\n",
    "  \"autoscaling\" : {\"enableNodeAutoprovisioning\": True,\n",
    "                   \"resourceLimits\" : [\n",
    "                       {\n",
    "                          \"resourceType\": 'cpu',\n",
    "                          \"minimum\": '0',\n",
    "                          \"maximum\": '64'\n",
    "                       },\n",
    "                       {\n",
    "                          \"resourceType\": 'memory',\n",
    "                          \"minimum\": '0',\n",
    "                          \"maximum\": '125'\n",
    "                       }                      \n",
    "                   ]\n",
    "                   },\n",
    "}"
   ]
  },
  {
   "cell_type": "markdown",
   "metadata": {},
   "source": [
    "## Instantiating Kubernetes cluster\n",
    "\n",
    "This is done using the [REST API](https://cloud.google.com/kubernetes-engine/docs/reference/rest). "
   ]
  },
  {
   "cell_type": "code",
   "execution_count": 4,
   "metadata": {},
   "outputs": [
    {
     "data": {
      "text/plain": [
       "{'name': 'operation-1599118697688-da615d63',\n",
       " 'zone': 'europe-north1-b',\n",
       " 'operationType': 'CREATE_CLUSTER',\n",
       " 'status': 'RUNNING',\n",
       " 'selfLink': 'https://container.googleapis.com/v1beta1/projects/808260220155/zones/europe-north1-b/operations/operation-1599118697688-da615d63',\n",
       " 'targetLink': 'https://container.googleapis.com/v1beta1/projects/808260220155/zones/europe-north1-b/clusters/chemical-fate-jhub',\n",
       " 'startTime': '2020-09-03T07:38:17.688160153Z'}"
      ]
     },
     "execution_count": 4,
     "metadata": {},
     "output_type": "execute_result"
    }
   ],
   "source": [
    "#Initializing the custom gke_api\n",
    "\n",
    "#Paths to keys. Getting keys has not been automated but can be done in the cloud console\n",
    "master_key = \"/home/jose-luis/Envs/gce_framework/code/keys/nivacatchment.json\"\n",
    "storage_key = \"/home/jose-luis/Envs/gce_framework/code/keys/framework-storage.json\"\n",
    "\n",
    "#General properties\n",
    "properties = {\n",
    "    \"project\" : \"nivacatchment\",\n",
    "    \"zone\" : \"europe-north1-b\",\n",
    "    \"cluster\" : cluster_object['name']\n",
    "}\n",
    "\n",
    "cloud = gce.gce_api(master_key,storage_key,properties)\n",
    "\n",
    "#Actually instantiating the cluster\n",
    "cloud.post(\"kubeCreate\",json={\"cluster\": cluster_object})"
   ]
  },
  {
   "cell_type": "code",
   "execution_count": 5,
   "metadata": {},
   "outputs": [
    {
     "data": {
      "text/plain": [
       "'PROVISIONING'"
      ]
     },
     "metadata": {},
     "output_type": "display_data"
    },
    {
     "data": {
      "text/plain": [
       "'PROVISIONING'"
      ]
     },
     "metadata": {},
     "output_type": "display_data"
    },
    {
     "data": {
      "text/plain": [
       "'PROVISIONING'"
      ]
     },
     "metadata": {},
     "output_type": "display_data"
    },
    {
     "data": {
      "text/plain": [
       "'PROVISIONING'"
      ]
     },
     "metadata": {},
     "output_type": "display_data"
    },
    {
     "data": {
      "text/plain": [
       "'PROVISIONING'"
      ]
     },
     "metadata": {},
     "output_type": "display_data"
    },
    {
     "data": {
      "text/plain": [
       "'PROVISIONING'"
      ]
     },
     "metadata": {},
     "output_type": "display_data"
    },
    {
     "data": {
      "text/plain": [
       "'PROVISIONING'"
      ]
     },
     "metadata": {},
     "output_type": "display_data"
    },
    {
     "data": {
      "text/plain": [
       "'PROVISIONING'"
      ]
     },
     "metadata": {},
     "output_type": "display_data"
    },
    {
     "data": {
      "text/plain": [
       "'PROVISIONING'"
      ]
     },
     "metadata": {},
     "output_type": "display_data"
    },
    {
     "data": {
      "text/plain": [
       "'PROVISIONING'"
      ]
     },
     "metadata": {},
     "output_type": "display_data"
    },
    {
     "data": {
      "text/plain": [
       "'PROVISIONING'"
      ]
     },
     "metadata": {},
     "output_type": "display_data"
    },
    {
     "data": {
      "text/plain": [
       "'PROVISIONING'"
      ]
     },
     "metadata": {},
     "output_type": "display_data"
    },
    {
     "data": {
      "text/plain": [
       "'PROVISIONING'"
      ]
     },
     "metadata": {},
     "output_type": "display_data"
    },
    {
     "data": {
      "text/plain": [
       "'PROVISIONING'"
      ]
     },
     "metadata": {},
     "output_type": "display_data"
    },
    {
     "data": {
      "text/plain": [
       "'PROVISIONING'"
      ]
     },
     "metadata": {},
     "output_type": "display_data"
    },
    {
     "data": {
      "text/plain": [
       "'PROVISIONING'"
      ]
     },
     "metadata": {},
     "output_type": "display_data"
    },
    {
     "data": {
      "text/plain": [
       "'PROVISIONING'"
      ]
     },
     "metadata": {},
     "output_type": "display_data"
    },
    {
     "data": {
      "text/plain": [
       "'PROVISIONING'"
      ]
     },
     "metadata": {},
     "output_type": "display_data"
    },
    {
     "data": {
      "text/plain": [
       "'RUNNING'"
      ]
     },
     "metadata": {},
     "output_type": "display_data"
    }
   ],
   "source": [
    "#Waiting until the cluster is up and running\n",
    "response = cloud.get('kubeCreate')['clusters'][0]['status']\n",
    "display(response)\n",
    "while response != 'RUNNING':\n",
    "    sleep(10)\n",
    "    response = cloud.get('kubeCreate')['clusters'][0]['status']\n",
    "    display(response) \n",
    "    \n",
    "    \n",
    "#Function that checks that a pool has been created\n",
    "def waitForPool():\n",
    "    #Wait until the cluster is ready\n",
    "    response = [i['status'] for i in cloud.get('kubeAddPool')['nodePools'] ]\n",
    "    display(response)\n",
    "    while (not(all([i == 'RUNNING' for i in response]))):\n",
    "        display(response)\n",
    "        sleep(10)\n",
    "        response = [i['status'] for i in cloud.get('kubeAddPool')['nodePools'] ]"
   ]
  },
  {
   "cell_type": "markdown",
   "metadata": {},
   "source": [
    "## Getting credentials for cluster"
   ]
  },
  {
   "cell_type": "code",
   "execution_count": 6,
   "metadata": {},
   "outputs": [
    {
     "name": "stderr",
     "output_type": "stream",
     "text": [
      "Fetching cluster endpoint and auth data.\n",
      "kubeconfig entry generated for chemical-fate-jhub.\n"
     ]
    }
   ],
   "source": [
    "with Connection('localhost') as c:\n",
    "    c.local('gcloud container clusters get-credentials {name} --zone {location}'.format(**cluster_object),replace_env=False)"
   ]
  },
  {
   "cell_type": "markdown",
   "metadata": {},
   "source": [
    "## Creating namespace"
   ]
  },
  {
   "cell_type": "code",
   "execution_count": 7,
   "metadata": {},
   "outputs": [],
   "source": [
    "#Check if namespace jhub exist\n",
    "# with Connection('localhost') as c:\n",
    "#     bla = c.local('kubectl get namespace',replace_env=False)\n",
    "    \n",
    "# expr = re.compile('^jhub\\s+')\n",
    "# bla = bla.stdout.strip().split('\\n')\n",
    "# namespaceExists=any([expr.match(i) != None for i in bla])"
   ]
  },
  {
   "cell_type": "code",
   "execution_count": 8,
   "metadata": {},
   "outputs": [
    {
     "name": "stdout",
     "output_type": "stream",
     "text": [
      "namespace/chemhub created\n",
      "\"jupyterhub\" has been added to your repositories\n",
      "Hang tight while we grab the latest from your chart repositories...\n",
      "...Successfully got an update from the \"jupyterhub\" chart repository\n",
      "Update Complete. ⎈ Happy Helming!⎈ \n"
     ]
    }
   ],
   "source": [
    "#Preparing cluster with the jupyterhub helm chart\n",
    "\n",
    "with Connection('localhost') as c:\n",
    "    c.local('kubectl create namespace chemhub',replace_env=False)\n",
    "    #Using helm to install jupyterhub on the kubernetes cluster\n",
    "    c.local('helm repo add jupyterhub https://jupyterhub.github.io/helm-chart/',replace_env=False)\n",
    "    c.local('helm repo update', replace_env=False)     "
   ]
  },
  {
   "cell_type": "code",
   "execution_count": 9,
   "metadata": {},
   "outputs": [
    {
     "name": "stdout",
     "output_type": "stream",
     "text": [
      "Release \"chemhub\" does not exist. Installing it now.\n",
      "NAME: chemhub\n",
      "LAST DEPLOYED: Thu Sep  3 09:41:25 2020\n",
      "NAMESPACE: chemhub\n",
      "STATUS: deployed\n",
      "REVISION: 1\n",
      "TEST SUITE: None\n",
      "NOTES:\n",
      "Thank you for installing JupyterHub!\n",
      "\n",
      "Your release is named chemhub and installed into the namespace chemhub.\n",
      "\n",
      "You can find if the hub and proxy is ready by doing:\n",
      "\n",
      " kubectl --namespace=chemhub get pod\n",
      "\n",
      "and watching for both those pods to be in status 'Running'.\n",
      "\n",
      "You can find the public IP of the JupyterHub by doing:\n",
      "\n",
      " kubectl --namespace=chemhub get svc proxy-public\n",
      "\n",
      "It might take a few minutes for it to appear!\n",
      "\n",
      "Note that this is still an alpha release! If you have questions, feel free to\n",
      "  1. Read the guide at https://z2jh.jupyter.org\n",
      "  2. Chat with us at https://gitter.im/jupyterhub/jupyterhub\n",
      "  3. File issues at https://github.com/jupyterhub/zero-to-jupyterhub-k8s/issues\n"
     ]
    }
   ],
   "source": [
    "#Generating hex string to authenticate communication with the hub\n",
    "with Connection('localhost') as c:\n",
    "    randHex = c.local('openssl rand -hex  32',hide='out')\n",
    "    randHex = randHex.stdout.strip()\n",
    "\n",
    "config = {'proxy': {'secretToken': randHex} }\n",
    "\n",
    "#Storing hex string in current directory for future reference (in case updates are needed after the first time this notebook is run)\n",
    "with open('randHex.txt','w') as f:\n",
    "    f.write(randHex)\n",
    "    \n",
    "with open('config.yaml','w') as f:\n",
    "    f.write(yaml.dump(config,default_flow_style=False))\n",
    "    \n",
    "with Connection('localhost') as c:\n",
    "    #First install\n",
    "    c.local('helm upgrade --install chemhub jupyterhub/jupyterhub --namespace chemhub --version=0.9.0 --values config.yaml ',replace_env=False)"
   ]
  },
  {
   "cell_type": "code",
   "execution_count": 15,
   "metadata": {},
   "outputs": [
    {
     "data": {
      "text/plain": [
       "{'proxy': {'secretToken': '294763b6cfcf407979d55821b010ec16e02fcc27e1e74fe827ca14b54e5dac30'},\n",
       " 'singleuser': {'image': {'name': 'eu.gcr.io/nivacatchment/non-sis-edc',\n",
       "   'tag': 'third'},\n",
       "  'defaultUrl': '/lab'},\n",
       " 'hub': {'extraConfig': {'jupyterlab': \"c.Spawner.cmd = ['jupyter-labhub']\"},\n",
       "  'scheduling': {'userScheduler': {'enabled': True},\n",
       "   'podPriority': {'enabled': True},\n",
       "   'userPlaceholder': {'enabled': True, 'replicas': 2},\n",
       "   'userPods': {'nodeAffinity': {'matchNodePurpose': 'require'}},\n",
       "   'corePods': {'nodeAffinity': {'matchNodePurpose': 'require'}}}},\n",
       " 'auth': {'type': 'github',\n",
       "  'admin': {'access': True, 'users': ['Lecheps']},\n",
       "  'whitelist': {'users': ['LeahJB', 'clayerf']},\n",
       "  'github': {'clientId': '42a65eb61a1f218f7a99',\n",
       "   'clientSecret': '965f613f25d74f9f1cd592ff5d8c601e59666c73',\n",
       "   'callbackUrl': 'http://35.228.20.8/hub/oauth_callback'}}}"
      ]
     },
     "metadata": {},
     "output_type": "display_data"
    },
    {
     "name": "stdout",
     "output_type": "stream",
     "text": [
      "Release \"chemhub\" has been upgraded. Happy Helming!\n",
      "NAME: chemhub\n",
      "LAST DEPLOYED: Thu Sep  3 12:43:34 2020\n",
      "NAMESPACE: chemhub\n",
      "STATUS: deployed\n",
      "REVISION: 6\n",
      "TEST SUITE: None\n",
      "NOTES:\n",
      "Thank you for installing JupyterHub!\n",
      "\n",
      "Your release is named chemhub and installed into the namespace chemhub.\n",
      "\n",
      "You can find if the hub and proxy is ready by doing:\n",
      "\n",
      " kubectl --namespace=chemhub get pod\n",
      "\n",
      "and watching for both those pods to be in status 'Running'.\n",
      "\n",
      "You can find the public IP of the JupyterHub by doing:\n",
      "\n",
      " kubectl --namespace=chemhub get svc proxy-public\n",
      "\n",
      "It might take a few minutes for it to appear!\n",
      "\n",
      "Note that this is still an alpha release! If you have questions, feel free to\n",
      "  1. Read the guide at https://z2jh.jupyter.org\n",
      "  2. Chat with us at https://gitter.im/jupyterhub/jupyterhub\n",
      "  3. File issues at https://github.com/jupyterhub/zero-to-jupyterhub-k8s/issues\n"
     ]
    }
   ],
   "source": [
    "#Setting up image to be run\n",
    "config.update({'singleuser' : {'image': {'name':'eu.gcr.io/nivacatchment/non-sis-edc','tag': 'third'}} })\n",
    "config['singleuser'].update({'defaultUrl' : \"/lab\"})\n",
    "\n",
    "display(config)\n",
    "    \n",
    "with open('config.yaml','w') as f:\n",
    "    f.write(yaml.dump(config,default_flow_style=False))\n",
    "    \n",
    "with Connection('localhost') as c:\n",
    "    #First install\n",
    "    c.local('helm upgrade chemhub jupyterhub/jupyterhub --namespace chemhub --version=0.9.0 --values config.yaml ',replace_env=False)"
   ]
  },
  {
   "cell_type": "code",
   "execution_count": 11,
   "metadata": {},
   "outputs": [
    {
     "data": {
      "text/plain": [
       "{'proxy': {'secretToken': '294763b6cfcf407979d55821b010ec16e02fcc27e1e74fe827ca14b54e5dac30'},\n",
       " 'singleuser': {'image': {'name': 'eu.gcr.io/nivacatchment/non-sis-edc',\n",
       "   'tag': 'first'},\n",
       "  'defaultUrl': '/lab',\n",
       "  'profileList': [{'display_name': 'Standard',\n",
       "    'description': 'At least: two processors, 7.5GB of RAM ',\n",
       "    'default': True,\n",
       "    'kubespawner_override': {'cpu_limit': 4,\n",
       "     'cpu_guarantee': 1,\n",
       "     'mem_limit': '15G',\n",
       "     'mem_guarantee': '1G',\n",
       "     'start_timeout': 900}}]}}"
      ]
     },
     "metadata": {},
     "output_type": "display_data"
    },
    {
     "name": "stdout",
     "output_type": "stream",
     "text": [
      "Release \"chemhub\" has been upgraded. Happy Helming!\n",
      "NAME: chemhub\n",
      "LAST DEPLOYED: Thu Sep  3 09:52:01 2020\n",
      "NAMESPACE: chemhub\n",
      "STATUS: deployed\n",
      "REVISION: 3\n",
      "TEST SUITE: None\n",
      "NOTES:\n",
      "Thank you for installing JupyterHub!\n",
      "\n",
      "Your release is named chemhub and installed into the namespace chemhub.\n",
      "\n",
      "You can find if the hub and proxy is ready by doing:\n",
      "\n",
      " kubectl --namespace=chemhub get pod\n",
      "\n",
      "and watching for both those pods to be in status 'Running'.\n",
      "\n",
      "You can find the public IP of the JupyterHub by doing:\n",
      "\n",
      " kubectl --namespace=chemhub get svc proxy-public\n",
      "\n",
      "It might take a few minutes for it to appear!\n",
      "\n",
      "Note that this is still an alpha release! If you have questions, feel free to\n",
      "  1. Read the guide at https://z2jh.jupyter.org\n",
      "  2. Chat with us at https://gitter.im/jupyterhub/jupyterhub\n",
      "  3. File issues at https://github.com/jupyterhub/zero-to-jupyterhub-k8s/issues\n"
     ]
    }
   ],
   "source": [
    "## Setting up machine types to be instantiated\n",
    "\n",
    "profileList = [{'display_name': 'Standard',\n",
    "                        'description': 'At least: two processors, 7.5GB of RAM ',\n",
    "                        'default': True,\n",
    "                        'kubespawner_override': {'cpu_limit': 4,\n",
    "                         'cpu_guarantee': 1,\n",
    "                         'mem_limit': '15G',\n",
    "                         'mem_guarantee': '1G',\n",
    "                         'start_timeout': 900\n",
    "                                                }\n",
    "               },\n",
    "#                {'display_name': 'Your own personal machine',\n",
    "#                 'description': '4 processors, 15GB of RAM',\n",
    "#                 'kubespawner_override': {'cpu_limit': 4,\n",
    "#                                          'cpu_guarantee': 4,\n",
    "#                                          'mem_limit': '15G',\n",
    "#                                          'mem_guarantee': '15G',\n",
    "#                                          'start_timeout': 900,\n",
    "#                                          'tolerations' : [{'effect': 'NoSchedule',\n",
    "#                                                             'key': 'hub.jupyter.org_dedicated',\n",
    "#                                                             'operator': 'Equal',\n",
    "#                                                             'value': 'user'},\n",
    "#                                                          ]\n",
    "#                                          }\n",
    "#                },\n",
    "#                {'display_name': 'High CPU (new node; typically 5-10 mins startup time)',\n",
    "#                  'description': 'Access to 16 CPUs, 12 GB RAM, no GPU. For CPU-heavy processing. Expensive!',\n",
    "#                  'kubespawner_override': {'cpu_limit': 8,\n",
    "#                   'cpu_guarantee': 32,\n",
    "#                   'mem_limit': '60G',\n",
    "#                   'mem_guarantee': '7.5G',\n",
    "#                   'start_timeout': 900,\n",
    "#                   'tolerations': [{'effect': 'NoSchedule',\n",
    "#                     'key': 'hub.jupyter.org_dedicated',\n",
    "#                     'operator': 'Equal',\n",
    "#                     'value': 'user'},\n",
    "#                    {'effect': 'NoSchedule',\n",
    "#                     'key': 'niva-dedicated',\n",
    "#                     'operator': 'Equal',\n",
    "#                     'value': 'user-hi-cpu'}]}\n",
    "#                }\n",
    "               ]\n",
    "\n",
    "\n",
    "config['singleuser'].update({'profileList' : profileList})\n",
    "\n",
    "display(config)\n",
    "    \n",
    "with open('config.yaml','w') as f:\n",
    "    f.write(yaml.dump(config))\n",
    "    \n",
    "with Connection('localhost') as c:\n",
    "    #Update\n",
    "    c.local('helm upgrade chemhub jupyterhub/jupyterhub --namespace=chemhub --version=0.9.0 --values config.yaml ',replace_env=False)"
   ]
  },
  {
   "cell_type": "markdown",
   "metadata": {},
   "source": [
    "## Getting ip"
   ]
  },
  {
   "cell_type": "code",
   "execution_count": 12,
   "metadata": {},
   "outputs": [
    {
     "name": "stdout",
     "output_type": "stream",
     "text": [
      "NAME           TYPE           CLUSTER-IP      EXTERNAL-IP   PORT(S)                      AGE\n",
      "proxy-public   LoadBalancer   10.91.240.196   35.228.20.8   443:30120/TCP,80:30635/TCP   10m\n"
     ]
    },
    {
     "data": {
      "text/plain": [
       "{'NAME': 'proxy-public',\n",
       " 'TYPE': 'LoadBalancer',\n",
       " 'CLUSTER-IP': '10.91.240.196',\n",
       " 'EXTERNAL-IP': '35.228.20.8',\n",
       " 'PORT(S)': '443:30120/TCP,80:30635/TCP',\n",
       " 'AGE': '10m'}"
      ]
     },
     "metadata": {},
     "output_type": "display_data"
    }
   ],
   "source": [
    "with Connection('localhost') as c:\n",
    "    ip = c.local('kubectl --namespace=chemhub get svc proxy-public',replace_env=False)\n",
    "\n",
    "ip = ip.stdout.split('\\n')\n",
    "ip_dict = dict()\n",
    "for i,j in zip(ip[0].split(),ip[1].split()):\n",
    "    ip_dict.update({i:j})\n",
    "    \n",
    "display(ip_dict)"
   ]
  },
  {
   "cell_type": "markdown",
   "metadata": {},
   "source": [
    "## Limiting access"
   ]
  },
  {
   "cell_type": "code",
   "execution_count": 13,
   "metadata": {},
   "outputs": [
    {
     "name": "stdout",
     "output_type": "stream",
     "text": [
      "Release \"chemhub\" has been upgraded. Happy Helming!\n",
      "NAME: chemhub\n",
      "LAST DEPLOYED: Thu Sep  3 09:52:37 2020\n",
      "NAMESPACE: chemhub\n",
      "STATUS: deployed\n",
      "REVISION: 4\n",
      "TEST SUITE: None\n",
      "NOTES:\n",
      "Thank you for installing JupyterHub!\n",
      "\n",
      "Your release is named chemhub and installed into the namespace chemhub.\n",
      "\n",
      "You can find if the hub and proxy is ready by doing:\n",
      "\n",
      " kubectl --namespace=chemhub get pod\n",
      "\n",
      "and watching for both those pods to be in status 'Running'.\n",
      "\n",
      "You can find the public IP of the JupyterHub by doing:\n",
      "\n",
      " kubectl --namespace=chemhub get svc proxy-public\n",
      "\n",
      "It might take a few minutes for it to appear!\n",
      "\n",
      "Note that this is still an alpha release! If you have questions, feel free to\n",
      "  1. Read the guide at https://z2jh.jupyter.org\n",
      "  2. Chat with us at https://gitter.im/jupyterhub/jupyterhub\n",
      "  3. File issues at https://github.com/jupyterhub/zero-to-jupyterhub-k8s/issues\n"
     ]
    }
   ],
   "source": [
    "hub = {'extraConfig': {'jupyterlab': \"c.Spawner.cmd = ['jupyter-labhub']\"} ,\n",
    "      'scheduling': {'userScheduler': {'enabled': True},\n",
    "                          'podPriority': {'enabled': True},\n",
    "                          'userPlaceholder': {'enabled': True, 'replicas': 2},\n",
    "                          'userPods': {'nodeAffinity': {'matchNodePurpose': 'require'}},\n",
    "                          'corePods': {'nodeAffinity': {'matchNodePurpose': 'require'}}\n",
    "                        }\n",
    "      }\n",
    "auth = {\n",
    "      'type' : 'github', \n",
    "       'admin': {\n",
    "           'access' : True, 'users' : ['Lecheps',]},\n",
    "       'whitelist' : {'users' :  ['LeahJB','clayerf']},\n",
    "       'github' : {\n",
    "           'clientId' : '42a65eb61a1f218f7a99',\n",
    "           'clientSecret' : '965f613f25d74f9f1cd592ff5d8c601e59666c73',\n",
    "           'callbackUrl': \"http://{}/hub/oauth_callback\".format(ip_dict['EXTERNAL-IP'])\n",
    "                  }\n",
    "         }\n",
    "\n",
    "config.update({'hub': hub})\n",
    "config.update({'auth': auth})\n",
    "\n",
    "with open('config.yaml','w') as f:\n",
    "    f.write(yaml.dump(config))\n",
    "    \n",
    "with Connection('localhost') as c:\n",
    "    #Update\n",
    "    c.local('helm upgrade chemhub jupyterhub/jupyterhub --namespace=chemhub --version=0.9.0 --values config.yaml ',replace_env=False)       "
   ]
  },
  {
   "cell_type": "code",
   "execution_count": null,
   "metadata": {},
   "outputs": [],
   "source": []
  }
 ],
 "metadata": {
  "kernelspec": {
   "display_name": "Python 3",
   "language": "python",
   "name": "python3"
  },
  "language_info": {
   "codemirror_mode": {
    "name": "ipython",
    "version": 3
   },
   "file_extension": ".py",
   "mimetype": "text/x-python",
   "name": "python",
   "nbconvert_exporter": "python",
   "pygments_lexer": "ipython3",
   "version": "3.8.2"
  }
 },
 "nbformat": 4,
 "nbformat_minor": 4
}
